{
 "cells": [
  {
   "cell_type": "markdown",
   "id": "b98fd9f4",
   "metadata": {},
   "source": [
    "# End-to-End Diabetes Machine Learning Pipeline III\n",
    "modeli kullanıp buradan bir şeyler üretmeye prediction ya da scoring işlemi denir.\n"
   ]
  },
  {
   "cell_type": "code",
   "execution_count": null,
   "id": "f85aa992",
   "metadata": {},
   "outputs": [],
   "source": [
    "import joblib\n",
    "import pandas as pd"
   ]
  },
  {
   "cell_type": "code",
   "execution_count": null,
   "id": "673fb618",
   "metadata": {},
   "outputs": [],
   "source": [
    "#yeni kullancı kayıtlarının diabetes.csv içine kaydedildiğini varsay.\n",
    "df  = pd.read_csv(\"C:/Users/esman/OneDrive/Masaüstü/MachineLearning_datasets/diabetes.csv\")\n",
    "df"
   ]
  },
  {
   "cell_type": "code",
   "execution_count": null,
   "id": "13a1bda7",
   "metadata": {},
   "outputs": [],
   "source": [
    "random_user = df.sample(1, random_state=45)\n"
   ]
  },
  {
   "cell_type": "code",
   "execution_count": null,
   "id": "a2c62d07",
   "metadata": {},
   "outputs": [],
   "source": [
    "#modeli çağır.\n",
    "new_model = joblib.load(\"voting_clf.pkl\")\n"
   ]
  },
  {
   "cell_type": "markdown",
   "id": "e7512b0e",
   "metadata": {},
   "source": [
    "Gelen yeni kullanıcının sonucunu tahmin et. bununn için :\n",
    "        new_model.predict(random_user)\n",
    "        \n",
    "Buradan bir hata alırsın. çünkü senin ynei kullanıcın geldiğinde yeni kullanıcının gelen değişkenleri senin elinde yok ki? sen değişkenleri değiştirdin farklı isimlendirmeler yaotın. onkar üzerinde farklı işlmelr yüürüttün. ama ynei gelen kullacının verileri oyle değil. Ne yapmlaıyız?\n",
    "- bu veri setinin eski veri setiyle aynı olması lazım. yani dönüştürmemiz gerk. bunun için diabetes_data_prep fonksiyonundan geçir.\n",
    "from diabetes_pipeline import diabetes_data_prep\n"
   ]
  },
  {
   "cell_type": "code",
   "execution_count": null,
   "id": "46125699",
   "metadata": {},
   "outputs": [],
   "source": [
    "from diabetes_pipeline import diabetes_data_prep\n"
   ]
  },
  {
   "cell_type": "code",
   "execution_count": null,
   "id": "6a5d62d3",
   "metadata": {},
   "outputs": [],
   "source": [
    "#yeni verideki gözlemler;\n",
    "X, y = diabetes_data_prep(df)\n"
   ]
  },
  {
   "cell_type": "code",
   "execution_count": null,
   "id": "bfe3443e",
   "metadata": {},
   "outputs": [],
   "source": [
    "#yeni verideki gözlmelerden random 1 tanesini seç:\n",
    "random_user = X.sample(1, random_state=50)\n"
   ]
  },
  {
   "cell_type": "code",
   "execution_count": null,
   "id": "fa53dbe6",
   "metadata": {},
   "outputs": [],
   "source": [
    "new_model = joblib.load(\"voting_clf.pkl\")\n"
   ]
  },
  {
   "cell_type": "code",
   "execution_count": null,
   "id": "35de695c",
   "metadata": {},
   "outputs": [],
   "source": [
    "new_model.predict(random_user)\n"
   ]
  },
  {
   "cell_type": "code",
   "execution_count": null,
   "id": "b460256f",
   "metadata": {},
   "outputs": [],
   "source": []
  }
 ],
 "metadata": {
  "kernelspec": {
   "display_name": "Python 3 (ipykernel)",
   "language": "python",
   "name": "python3"
  },
  "language_info": {
   "codemirror_mode": {
    "name": "ipython",
    "version": 3
   },
   "file_extension": ".py",
   "mimetype": "text/x-python",
   "name": "python",
   "nbconvert_exporter": "python",
   "pygments_lexer": "ipython3",
   "version": "3.9.16"
  }
 },
 "nbformat": 4,
 "nbformat_minor": 5
}
